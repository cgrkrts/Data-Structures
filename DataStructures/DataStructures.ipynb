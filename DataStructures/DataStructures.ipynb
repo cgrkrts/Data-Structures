{
 "cells": [
  {
   "cell_type": "markdown",
   "id": "e26eab32-d791-42f3-81d5-d3c0ce2dc552",
   "metadata": {},
   "source": [
    "# Selection Sort"
   ]
  },
  {
   "cell_type": "markdown",
   "id": "6b164d31-8108-401b-9f15-a325e76cc42f",
   "metadata": {},
   "source": [
    "Proje 1\n",
    "[22,27,16,2,18,6] -> Insertion Sort"
   ]
  },
  {
   "cell_type": "markdown",
   "id": "ed9c60ec-9e74-4907-97f2-4171d1084936",
   "metadata": {},
   "source": [
    "* Yukarı verilen dizinin sort türüne göre aşamalarını yazınız.\n",
    " \n",
    "[22,27,16,2,18,6]\n",
    "[2,27,16,22,18,6]\n",
    "[2,6,16,22,18,27]\n",
    "[2,6,16,18,22,27]"
   ]
  },
  {
   "cell_type": "markdown",
   "id": "4a1de14f-1afa-4a75-bc06-01f126b66e98",
   "metadata": {},
   "source": [
    "* Big-O gösterimini yazınız.\n",
    "\n",
    "(n*(n+1)/2) -> O(n^2)"
   ]
  },
  {
   "cell_type": "markdown",
   "id": "72f96080-058b-40cf-a38b-27de9d499592",
   "metadata": {},
   "source": [
    "* Time Complexity: Dizi sıralandıktan sonra 18 sayısı aşağıdaki case'lerden hangisinin kapsamına girer? Yazınız\n",
    "\n",
    "Average case: Aradığımız sayının ortada olması\n",
    "Worst case: Aradığımız sayının sonda olması\n",
    "Best case: Aradığımız sayının dizinin en başında olması.\n",
    "\n",
    " Dizi sıralandıktan sonra [2,6,16,18,22,27] -> 18 average case’ dir"
   ]
  },
  {
   "cell_type": "markdown",
   "id": "77b60673-da3b-4dc7-9a01-e37cb4b45cf7",
   "metadata": {},
   "source": [
    "* [7,3,5,8,2,9,4,15,6] dizisinin Selection Sort'a göre ilk 4 adımını yazınız.\n",
    "\n",
    "[2,3,5,8,7,9,4,15,6]\n",
    "[2,3,4,8,7,9,5,15,6]\n",
    "[2,3,4,5,7,9,8,15,6]\n",
    "[2,3,4,5,6,9,8,15,7]"
   ]
  },
  {
   "cell_type": "markdown",
   "id": "04ec9d18-1882-4af5-b66d-5b8240a76f28",
   "metadata": {},
   "source": [
    "# Merge Sort "
   ]
  },
  {
   "cell_type": "markdown",
   "id": "54a5fa32-9c10-494a-8997-424c951b4ff5",
   "metadata": {},
   "source": [
    "Proje 2\n",
    "[16,21,11,8,12,22] -> Merge Sort"
   ]
  },
  {
   "cell_type": "markdown",
   "id": "4db1f642-0d94-48b9-8c22-86688195b22f",
   "metadata": {},
   "source": [
    "* Yukarıdaki dizinin sort türüne göre aşamalarını yazınız."
   ]
  },
  {
   "cell_type": "markdown",
   "id": "5e8235b0-30e9-4017-a822-11ead6f45d9d",
   "metadata": {},
   "source": [
    "    \n",
    "Answer a) \n",
    "\n",
    "Step 1:               [16,21,11]                             [8,12,22]\n",
    "                    /           \\                         /           \\\n",
    "Step 2:          [16,21]         [11]                  [8,12]         [22]\n",
    "                /        \\             \\               /      \\            \\\n",
    "Step 3:      [16]         [21]         [11]        [8]          [12]         [22]   \n",
    "                \\       /              /             \\         /            /\n",
    "Step 4:          [16,21]         [11]                  [8,12]         [22]\n",
    "                     \\            /                        \\           /\n",
    "Step 5:                [11,16,21]                            [8,12,22]\n",
    "                                  \n",
    "Step 6:                               [8,11,12,16,21,22]"
   ]
  },
  {
   "cell_type": "markdown",
   "id": "b555f0fb-d7b7-473f-b8b2-3f3fcebbc4db",
   "metadata": {},
   "source": [
    "* Big-O gösterimini yazınız.\n",
    "\n",
    "O(nlogn)"
   ]
  },
  {
   "cell_type": "markdown",
   "id": "1066e013-8fe5-4826-a4f5-186e8954a02e",
   "metadata": {},
   "source": [
    "# Binary Tree"
   ]
  },
  {
   "cell_type": "markdown",
   "id": "2af6c107-bc2c-4ec6-a826-ff82f14b1228",
   "metadata": {},
   "source": [
    "Proje 3\n",
    "[7, 5, 1, 8, 3, 6, 0, 9, 4, 2] dizisinin Binary-Search-Tree aşamalarını yazınız."
   ]
  },
  {
   "cell_type": "raw",
   "id": "08ca74f7-5da5-434b-a020-80cd38acada9",
   "metadata": {},
   "source": [
    "\n",
    "           7\n",
    "          / \\\n",
    "         5   8\n",
    "        / \\   \\\n",
    "       1   6   9\n",
    "      / \\     /\n",
    "     0   3   9\n",
    "        / \\\n",
    "       2   4\n"
   ]
  },
  {
   "cell_type": "code",
   "execution_count": null,
   "id": "d5c9cdd2-0437-4f74-b8dd-45ba4bfa3838",
   "metadata": {},
   "outputs": [],
   "source": []
  }
 ],
 "metadata": {
  "kernelspec": {
   "display_name": "Python 3 (ipykernel)",
   "language": "python",
   "name": "python3"
  },
  "language_info": {
   "codemirror_mode": {
    "name": "ipython",
    "version": 3
   },
   "file_extension": ".py",
   "mimetype": "text/x-python",
   "name": "python",
   "nbconvert_exporter": "python",
   "pygments_lexer": "ipython3",
   "version": "3.12.1"
  }
 },
 "nbformat": 4,
 "nbformat_minor": 5
}
